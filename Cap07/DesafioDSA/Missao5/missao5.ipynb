{
 "cells": [
  {
   "cell_type": "markdown",
   "metadata": {},
   "source": [
    "# <font color='blue'>Data Science Academy - Python Fundamentos - Capítulo 7</font>\n",
    "\n",
    "## Download: http://github.com/dsacademybr"
   ]
  },
  {
   "cell_type": "code",
   "execution_count": 1,
   "metadata": {},
   "outputs": [
    {
     "name": "stdout",
     "output_type": "stream",
     "text": [
      "Versão da Linguagem Python Usada Neste Jupyter Notebook: 3.7.6\n"
     ]
    }
   ],
   "source": [
    "# Versão da Linguagem Python\n",
    "from platform import python_version\n",
    "print('Versão da Linguagem Python Usada Neste Jupyter Notebook:', python_version())"
   ]
  },
  {
   "cell_type": "markdown",
   "metadata": {},
   "source": [
    "## Missão: Analisar o Comportamento de Compra de Consumidores."
   ]
  },
  {
   "cell_type": "markdown",
   "metadata": {},
   "source": [
    "## Nível de Dificuldade: Alto"
   ]
  },
  {
   "cell_type": "markdown",
   "metadata": {},
   "source": [
    "Você recebeu a tarefa de analisar os dados de compras de um web site! Os dados estão no formato JSON e disponíveis junto com este notebook.\n",
    "\n",
    "No site, cada usuário efetua login usando sua conta pessoal e pode adquirir produtos à medida que navega pela lista de produtos oferecidos. Cada produto possui um valor de venda. Dados de idade e sexo de cada usuário foram coletados e estão fornecidos no arquivo JSON.\n",
    "\n",
    "Seu trabalho é entregar uma análise de comportamento de compra dos consumidores. Esse é um tipo de atividade comum realizado por Cientistas de Dados e o resultado deste trabalho pode ser usado, por exemplo, para alimentar um modelo de Machine Learning e fazer previsões sobre comportamentos futuros.\n",
    "\n",
    "Mas nesta missão você vai analisar o comportamento de compra dos consumidores usando o pacote Pandas da linguagem Python e seu relatório final deve incluir cada um dos seguintes itens:\n",
    "\n",
    "** Contagem de Consumidores **\n",
    "\n",
    "* Número total de consumidores\n",
    "\n",
    "\n",
    "** Análise Geral de Compras **\n",
    "\n",
    "* Número de itens exclusivos\n",
    "* Preço médio de compra\n",
    "* Número total de compras\n",
    "* Rendimento total\n",
    "\n",
    "\n",
    "** Informações Demográficas Por Gênero **\n",
    "\n",
    "* Porcentagem e contagem de compradores masculinos\n",
    "* Porcentagem e contagem de compradores do sexo feminino\n",
    "* Porcentagem e contagem de outros / não divulgados\n",
    "\n",
    "\n",
    "** Análise de Compras Por Gênero **\n",
    "\n",
    "* Número de compras\n",
    "* Preço médio de compra\n",
    "* Valor Total de Compra\n",
    "* Compras for faixa etária\n",
    "\n",
    "\n",
    "** Identifique os 5 principais compradores pelo valor total de compra e, em seguida, liste (em uma tabela): **\n",
    "\n",
    "* Login\n",
    "* Número de compras\n",
    "* Preço médio de compra\n",
    "* Valor Total de Compra\n",
    "* Itens mais populares\n",
    "\n",
    "\n",
    "** Identifique os 5 itens mais populares por contagem de compras e, em seguida, liste (em uma tabela): **\n",
    "\n",
    "* ID do item\n",
    "* Nome do item\n",
    "* Número de compras\n",
    "* Preço do item\n",
    "* Valor Total de Compra\n",
    "* Itens mais lucrativos\n",
    "\n",
    "\n",
    "** Identifique os 5 itens mais lucrativos pelo valor total de compra e, em seguida, liste (em uma tabela): **\n",
    "\n",
    "* ID do item\n",
    "* Nome do item\n",
    "* Número de compras\n",
    "* Preço do item\n",
    "* Valor Total de Compra\n",
    "\n",
    "\n",
    "** Como considerações finais: **\n",
    "\n",
    "* Seu script deve funcionar para o conjunto de dados fornecido.\n",
    "* Você deve usar a Biblioteca Pandas e o Jupyter Notebook.\n"
   ]
  },
  {
   "cell_type": "code",
   "execution_count": 2,
   "metadata": {},
   "outputs": [],
   "source": [
    "# Imports\n",
    "import pandas as pd\n",
    "import numpy as np"
   ]
  },
  {
   "cell_type": "code",
   "execution_count": 45,
   "metadata": {},
   "outputs": [
    {
     "data": {
      "text/html": [
       "<div>\n",
       "<style scoped>\n",
       "    .dataframe tbody tr th:only-of-type {\n",
       "        vertical-align: middle;\n",
       "    }\n",
       "\n",
       "    .dataframe tbody tr th {\n",
       "        vertical-align: top;\n",
       "    }\n",
       "\n",
       "    .dataframe thead th {\n",
       "        text-align: right;\n",
       "    }\n",
       "</style>\n",
       "<table border=\"1\" class=\"dataframe\">\n",
       "  <thead>\n",
       "    <tr style=\"text-align: right;\">\n",
       "      <th></th>\n",
       "      <th>Login</th>\n",
       "      <th>Idade</th>\n",
       "      <th>Sexo</th>\n",
       "      <th>Item ID</th>\n",
       "      <th>Nome do Item</th>\n",
       "      <th>Valor</th>\n",
       "    </tr>\n",
       "  </thead>\n",
       "  <tbody>\n",
       "    <tr>\n",
       "      <th>0</th>\n",
       "      <td>Aelalis34</td>\n",
       "      <td>38</td>\n",
       "      <td>Masculino</td>\n",
       "      <td>165</td>\n",
       "      <td>Bone Crushing Silver Skewer</td>\n",
       "      <td>3.37</td>\n",
       "    </tr>\n",
       "    <tr>\n",
       "      <th>1</th>\n",
       "      <td>Eolo46</td>\n",
       "      <td>21</td>\n",
       "      <td>Masculino</td>\n",
       "      <td>119</td>\n",
       "      <td>Stormbringer, Dark Blade of Ending Misery</td>\n",
       "      <td>2.32</td>\n",
       "    </tr>\n",
       "    <tr>\n",
       "      <th>2</th>\n",
       "      <td>Assastnya25</td>\n",
       "      <td>34</td>\n",
       "      <td>Masculino</td>\n",
       "      <td>174</td>\n",
       "      <td>Primitive Blade</td>\n",
       "      <td>2.46</td>\n",
       "    </tr>\n",
       "    <tr>\n",
       "      <th>3</th>\n",
       "      <td>Pheusrical25</td>\n",
       "      <td>21</td>\n",
       "      <td>Masculino</td>\n",
       "      <td>92</td>\n",
       "      <td>Final Critic</td>\n",
       "      <td>1.36</td>\n",
       "    </tr>\n",
       "    <tr>\n",
       "      <th>4</th>\n",
       "      <td>Aela59</td>\n",
       "      <td>23</td>\n",
       "      <td>Masculino</td>\n",
       "      <td>63</td>\n",
       "      <td>Stormfury Mace</td>\n",
       "      <td>1.27</td>\n",
       "    </tr>\n",
       "  </tbody>\n",
       "</table>\n",
       "</div>"
      ],
      "text/plain": [
       "          Login  Idade       Sexo  Item ID  \\\n",
       "0     Aelalis34     38  Masculino      165   \n",
       "1        Eolo46     21  Masculino      119   \n",
       "2   Assastnya25     34  Masculino      174   \n",
       "3  Pheusrical25     21  Masculino       92   \n",
       "4        Aela59     23  Masculino       63   \n",
       "\n",
       "                                Nome do Item  Valor  \n",
       "0                Bone Crushing Silver Skewer   3.37  \n",
       "1  Stormbringer, Dark Blade of Ending Misery   2.32  \n",
       "2                            Primitive Blade   2.46  \n",
       "3                               Final Critic   1.36  \n",
       "4                             Stormfury Mace   1.27  "
      ]
     },
     "execution_count": 45,
     "metadata": {},
     "output_type": "execute_result"
    }
   ],
   "source": [
    "# Carrega o arquivo\n",
    "load_file = \"dados_compras.json\"\n",
    "purchase_file = pd.read_json(load_file, orient = \"records\")\n",
    "purchase_file.head()"
   ]
  },
  {
   "cell_type": "markdown",
   "metadata": {},
   "source": [
    "## Informações Sobre os Consumidores"
   ]
  },
  {
   "cell_type": "code",
   "execution_count": 127,
   "metadata": {},
   "outputs": [
    {
     "name": "stdout",
     "output_type": "stream",
     "text": [
      "O número de clientes da loja é 573\n"
     ]
    }
   ],
   "source": [
    "# Implemente aqui sua solução\n",
    "num_Clientes = purchase_file[\"Login\"].nunique()\n",
    "print(\"O número de clientes da loja é %s\" %(num_Clientes))"
   ]
  },
  {
   "cell_type": "markdown",
   "metadata": {},
   "source": [
    "## Análise Geral de Compras"
   ]
  },
  {
   "cell_type": "code",
   "execution_count": 128,
   "metadata": {},
   "outputs": [
    {
     "name": "stdout",
     "output_type": "stream",
     "text": [
      "O número de items exclusivos é 183\n",
      "O valor médio dos produtos é de 2.93\n",
      "O número total de compras realizadas na loja foi de 780\n",
      "O Rendimento total da loja foi de 2286.33\n"
     ]
    }
   ],
   "source": [
    "# Implemente aqui sua solução\n",
    "\n",
    "#Número de items exclusivos\n",
    "item_e_id = pd.DataFrame(purchase_file[\"Item ID\"])\n",
    "item_e_id = item_e_id.join(purchase_file[\"Nome do Item\"])\n",
    "numero_items = item_e_id[\"Item ID\"].nunique()\n",
    "print(\"O número de items exclusivos é %s\" %(numero_items))\n",
    "\n",
    "#Preço médio das compras\n",
    "preco_med = pd.DataFrame.mean(purchase_file[\"Valor\"])\n",
    "print(\"O valor médio dos produtos é de %s\" %round(preco_med,2))\n",
    "\n",
    "#Numero Total de Compras\n",
    "total_compras = len(purchase_file)\n",
    "print(\"O número total de compras realizadas na loja foi de %s\" %(total_compras))\n",
    "\n",
    "#Rendimento total da loja\n",
    "rendimento = purchase_file[\"Valor\"].sum()\n",
    "print(\"O Rendimento total da loja foi de %s\" %(rendimento))"
   ]
  },
  {
   "cell_type": "markdown",
   "metadata": {},
   "source": [
    "## Análise Demográfica"
   ]
  },
  {
   "cell_type": "code",
   "execution_count": 506,
   "metadata": {},
   "outputs": [],
   "source": [
    "# Implemente aqui sua solução\n",
    "#Informações por Genero\n",
    "consu_gen = purchase_file[['Login', 'Sexo']].drop_duplicates(subset = 'Login')\n",
    "consu_gen\n",
    "consu_gen_numbers = consu_gen['Sexo'].value_counts()\n",
    "consu_gen_prop = (consu_gen_numbers/num_Clientes) * 100  \n",
    "df_consu_gen = [consu_gen_numbers, consu_gen_prop]\n",
    "df_consu_gen = pd.DataFrame({'Contagem': consu_gen_numbers, 'Proporção': consu_gen_prop})\n",
    "df_consu_gen['Proporção'] = df_consu_gen['Proporção'].map(\"{:,.3f}%\".format)\n",
    "\n"
   ]
  },
  {
   "cell_type": "code",
   "execution_count": 507,
   "metadata": {},
   "outputs": [
    {
     "data": {
      "text/html": [
       "<div>\n",
       "<style scoped>\n",
       "    .dataframe tbody tr th:only-of-type {\n",
       "        vertical-align: middle;\n",
       "    }\n",
       "\n",
       "    .dataframe tbody tr th {\n",
       "        vertical-align: top;\n",
       "    }\n",
       "\n",
       "    .dataframe thead th {\n",
       "        text-align: right;\n",
       "    }\n",
       "</style>\n",
       "<table border=\"1\" class=\"dataframe\">\n",
       "  <thead>\n",
       "    <tr style=\"text-align: right;\">\n",
       "      <th></th>\n",
       "      <th>Contagem</th>\n",
       "      <th>Proporção</th>\n",
       "    </tr>\n",
       "  </thead>\n",
       "  <tbody>\n",
       "    <tr>\n",
       "      <th>Masculino</th>\n",
       "      <td>465</td>\n",
       "      <td>81.152%</td>\n",
       "    </tr>\n",
       "    <tr>\n",
       "      <th>Feminino</th>\n",
       "      <td>100</td>\n",
       "      <td>17.452%</td>\n",
       "    </tr>\n",
       "    <tr>\n",
       "      <th>Outro / Não Divulgado</th>\n",
       "      <td>8</td>\n",
       "      <td>1.396%</td>\n",
       "    </tr>\n",
       "  </tbody>\n",
       "</table>\n",
       "</div>"
      ],
      "text/plain": [
       "                       Contagem Proporção\n",
       "Masculino                   465   81.152%\n",
       "Feminino                    100   17.452%\n",
       "Outro / Não Divulgado         8    1.396%"
      ]
     },
     "execution_count": 507,
     "metadata": {},
     "output_type": "execute_result"
    }
   ],
   "source": [
    "df_consu_gen"
   ]
  },
  {
   "cell_type": "markdown",
   "metadata": {},
   "source": [
    "## Informações Demográficas Por Gênero"
   ]
  },
  {
   "cell_type": "code",
   "execution_count": 487,
   "metadata": {},
   "outputs": [
    {
     "name": "stdout",
     "output_type": "stream",
     "text": [
      "Sexo\n",
      "Feminino                 136\n",
      "Masculino                633\n",
      "Outro / Não Divulgado     11\n",
      "Name: Login, dtype: int64\n",
      "                          Valor\n",
      "Sexo                           \n",
      "Feminino               2.815515\n",
      "Masculino              2.950521\n",
      "Outro / Não Divulgado  3.249091\n",
      "                         Valor\n",
      "Sexo                          \n",
      "Feminino                382.91\n",
      "Masculino              1867.68\n",
      "Outro / Não Divulgado    35.74\n"
     ]
    },
    {
     "data": {
      "text/plain": [
       "Faixa Etaria\n",
       "Menos de 10     83.46\n",
       "10 a 14         96.95\n",
       "15 a 19        386.42\n",
       "20 a 24        978.77\n",
       "25 a 29        370.33\n",
       "30 a 34        197.25\n",
       "35 a 39        119.40\n",
       "Mais de 40      53.75\n",
       "Name: Valor, dtype: float64"
      ]
     },
     "execution_count": 487,
     "metadata": {},
     "output_type": "execute_result"
    }
   ],
   "source": [
    "# Implemente aqui sua solução\n",
    "\n",
    "#Número de compras por Genero\n",
    "compra_sex = purchase_file.groupby(['Sexo']).count()['Login']\n",
    "print(compra_sex)\n",
    "\n",
    "#Preço médio das compra por Genero\n",
    "\n",
    "mean_sex = purchase_file[['Valor','Sexo']].groupby(by=['Sexo']).mean()\n",
    "print(mean_sex)\n",
    "\n",
    "#Valor total das compras Por Genero\n",
    "total_sex = purchase_file[['Valor','Sexo']].groupby(by=['Sexo']).sum()\n",
    "print(total_sex)\n",
    "\n",
    "#Numero das compras, valores idade\n",
    "labels = [\"Menos de 10\", \"10 a 14\", \"15 a 19\", \"20 a 24\", \"25 a 29\", \"30 a 34\", \"35 a 39\", \"Mais de 40\"]\n",
    "bins = [0, 9.99, 14.99, 19.99, 24.99, 29.99, 34.99, 39.99, 999]\n",
    "purchase_file['Faixa Etaria'] = pd.cut(purchase_file['Idade'], bins=bins, labels=labels)\n",
    "contagem = purchase_file['Faixa Etaria'].value_counts(sort=False)\n",
    "contagem\n",
    "\n",
    "#Porcentagem de compras por idade\n",
    "porcentagem = (contagem / num_Clientes) *100\n",
    "porcentagem\n",
    "\n",
    "#Valor Médio por idade\n",
    "\n",
    "valor_medio = purchase_file.groupby(['Faixa Etaria']).mean()['Valor']\n",
    "valor_medio\n",
    "\n",
    "#Valor Total por Idade\n",
    "\n",
    "max_compra = purchase_file.groupby(['Faixa Etaria']).sum()['Valor']\n",
    "max_compra"
   ]
  },
  {
   "cell_type": "code",
   "execution_count": 443,
   "metadata": {},
   "outputs": [
    {
     "data": {
      "text/html": [
       "<div>\n",
       "<style scoped>\n",
       "    .dataframe tbody tr th:only-of-type {\n",
       "        vertical-align: middle;\n",
       "    }\n",
       "\n",
       "    .dataframe tbody tr th {\n",
       "        vertical-align: top;\n",
       "    }\n",
       "\n",
       "    .dataframe thead th {\n",
       "        text-align: right;\n",
       "    }\n",
       "</style>\n",
       "<table border=\"1\" class=\"dataframe\">\n",
       "  <thead>\n",
       "    <tr style=\"text-align: right;\">\n",
       "      <th></th>\n",
       "      <th>Contagem</th>\n",
       "      <th>%</th>\n",
       "      <th>Compra Media</th>\n",
       "      <th>Total Compra</th>\n",
       "    </tr>\n",
       "  </thead>\n",
       "  <tbody>\n",
       "    <tr>\n",
       "      <th>Menos de 10</th>\n",
       "      <td>28</td>\n",
       "      <td>4.89%</td>\n",
       "      <td>2.98</td>\n",
       "      <td>$83.46</td>\n",
       "    </tr>\n",
       "    <tr>\n",
       "      <th>10 a 14</th>\n",
       "      <td>35</td>\n",
       "      <td>6.11%</td>\n",
       "      <td>2.77</td>\n",
       "      <td>$96.95</td>\n",
       "    </tr>\n",
       "    <tr>\n",
       "      <th>15 a 19</th>\n",
       "      <td>133</td>\n",
       "      <td>23.21%</td>\n",
       "      <td>2.91</td>\n",
       "      <td>$386.42</td>\n",
       "    </tr>\n",
       "    <tr>\n",
       "      <th>20 a 24</th>\n",
       "      <td>336</td>\n",
       "      <td>58.64%</td>\n",
       "      <td>2.91</td>\n",
       "      <td>$978.77</td>\n",
       "    </tr>\n",
       "    <tr>\n",
       "      <th>25 a 29</th>\n",
       "      <td>125</td>\n",
       "      <td>21.82%</td>\n",
       "      <td>2.96</td>\n",
       "      <td>$370.33</td>\n",
       "    </tr>\n",
       "    <tr>\n",
       "      <th>30 a 34</th>\n",
       "      <td>64</td>\n",
       "      <td>11.17%</td>\n",
       "      <td>3.08</td>\n",
       "      <td>$197.25</td>\n",
       "    </tr>\n",
       "    <tr>\n",
       "      <th>35 a 39</th>\n",
       "      <td>42</td>\n",
       "      <td>7.33%</td>\n",
       "      <td>2.84</td>\n",
       "      <td>$119.40</td>\n",
       "    </tr>\n",
       "    <tr>\n",
       "      <th>Mais de 40</th>\n",
       "      <td>17</td>\n",
       "      <td>2.97%</td>\n",
       "      <td>3.16</td>\n",
       "      <td>$53.75</td>\n",
       "    </tr>\n",
       "  </tbody>\n",
       "</table>\n",
       "</div>"
      ],
      "text/plain": [
       "             Contagem       % Compra Media Total Compra\n",
       "Menos de 10        28   4.89%         2.98       $83.46\n",
       "10 a 14            35   6.11%         2.77       $96.95\n",
       "15 a 19           133  23.21%         2.91      $386.42\n",
       "20 a 24           336  58.64%         2.91      $978.77\n",
       "25 a 29           125  21.82%         2.96      $370.33\n",
       "30 a 34            64  11.17%         3.08      $197.25\n",
       "35 a 39            42   7.33%         2.84      $119.40\n",
       "Mais de 40         17   2.97%         3.16       $53.75"
      ]
     },
     "execution_count": 443,
     "metadata": {},
     "output_type": "execute_result"
    }
   ],
   "source": [
    "#Resultado\n",
    "df_idade = pd.DataFrame({'Contagem': contagem,'%': porcentagem, 'Compra Media': valor_medio, 'Total Compra': max_compra})\n",
    "df_idade['%'] = df_idade['%'].map(\"{:,.2f}%\".format)\n",
    "df_idade['Compra Media'] = df_idade['Compra Media'].map(\"{:,.2f}\".format)\n",
    "df_idade['Total Compra'] = df_idade['Total Compra'].map(\"${:,.2f}\".format)\n",
    "df_idade"
   ]
  },
  {
   "cell_type": "markdown",
   "metadata": {},
   "source": [
    "## Consumidores Mais Populares (Top 5)"
   ]
  },
  {
   "cell_type": "code",
   "execution_count": 679,
   "metadata": {},
   "outputs": [],
   "source": [
    "# Implemente aqui sua solução\n",
    "popular = purchase_file.groupby(by=['Login']).count()['Valor'] \n",
    "\n",
    "popular_media = purchase_file.groupby(by=['Login']).mean()['Valor'] \n",
    "\n",
    "popular_total = purchase_file.groupby(by=['Login']).sum()['Valor'] \n",
    "\n"
   ]
  },
  {
   "cell_type": "code",
   "execution_count": 680,
   "metadata": {},
   "outputs": [],
   "source": []
  },
  {
   "cell_type": "code",
   "execution_count": 683,
   "metadata": {},
   "outputs": [],
   "source": [
    "df_top5 = pd.DataFrame({'Compras': popular, 'Media': popular_media, 'Total': popular_total})\n",
    "df_top5 = df_top5.sort_values(by='Compras', ascending=False)"
   ]
  },
  {
   "cell_type": "code",
   "execution_count": 684,
   "metadata": {},
   "outputs": [
    {
     "data": {
      "text/html": [
       "<div>\n",
       "<style scoped>\n",
       "    .dataframe tbody tr th:only-of-type {\n",
       "        vertical-align: middle;\n",
       "    }\n",
       "\n",
       "    .dataframe tbody tr th {\n",
       "        vertical-align: top;\n",
       "    }\n",
       "\n",
       "    .dataframe thead th {\n",
       "        text-align: right;\n",
       "    }\n",
       "</style>\n",
       "<table border=\"1\" class=\"dataframe\">\n",
       "  <thead>\n",
       "    <tr style=\"text-align: right;\">\n",
       "      <th></th>\n",
       "      <th>Compras</th>\n",
       "      <th>Media</th>\n",
       "      <th>Total</th>\n",
       "    </tr>\n",
       "    <tr>\n",
       "      <th>Login</th>\n",
       "      <th></th>\n",
       "      <th></th>\n",
       "      <th></th>\n",
       "    </tr>\n",
       "  </thead>\n",
       "  <tbody>\n",
       "    <tr>\n",
       "      <th>Undirrala66</th>\n",
       "      <td>5</td>\n",
       "      <td>3.4120</td>\n",
       "      <td>17.06</td>\n",
       "    </tr>\n",
       "    <tr>\n",
       "      <th>Mindimnya67</th>\n",
       "      <td>4</td>\n",
       "      <td>3.1850</td>\n",
       "      <td>12.74</td>\n",
       "    </tr>\n",
       "    <tr>\n",
       "      <th>Qarwen67</th>\n",
       "      <td>4</td>\n",
       "      <td>2.4925</td>\n",
       "      <td>9.97</td>\n",
       "    </tr>\n",
       "    <tr>\n",
       "      <th>Saedue76</th>\n",
       "      <td>4</td>\n",
       "      <td>3.3900</td>\n",
       "      <td>13.56</td>\n",
       "    </tr>\n",
       "    <tr>\n",
       "      <th>Sondastan54</th>\n",
       "      <td>4</td>\n",
       "      <td>2.5600</td>\n",
       "      <td>10.24</td>\n",
       "    </tr>\n",
       "  </tbody>\n",
       "</table>\n",
       "</div>"
      ],
      "text/plain": [
       "             Compras   Media  Total\n",
       "Login                              \n",
       "Undirrala66        5  3.4120  17.06\n",
       "Mindimnya67        4  3.1850  12.74\n",
       "Qarwen67           4  2.4925   9.97\n",
       "Saedue76           4  3.3900  13.56\n",
       "Sondastan54        4  2.5600  10.24"
      ]
     },
     "execution_count": 684,
     "metadata": {},
     "output_type": "execute_result"
    }
   ],
   "source": [
    "top5 = df_top5.head(5)\n",
    "top5"
   ]
  },
  {
   "cell_type": "markdown",
   "metadata": {},
   "source": [
    "## Itens Mais Populares"
   ]
  },
  {
   "cell_type": "code",
   "execution_count": 720,
   "metadata": {},
   "outputs": [
    {
     "data": {
      "text/html": [
       "<div>\n",
       "<style scoped>\n",
       "    .dataframe tbody tr th:only-of-type {\n",
       "        vertical-align: middle;\n",
       "    }\n",
       "\n",
       "    .dataframe tbody tr th {\n",
       "        vertical-align: top;\n",
       "    }\n",
       "\n",
       "    .dataframe thead th {\n",
       "        text-align: right;\n",
       "    }\n",
       "</style>\n",
       "<table border=\"1\" class=\"dataframe\">\n",
       "  <thead>\n",
       "    <tr style=\"text-align: right;\">\n",
       "      <th></th>\n",
       "      <th>Valor Total</th>\n",
       "      <th>Valor Médio</th>\n",
       "      <th>Número de Compras</th>\n",
       "    </tr>\n",
       "    <tr>\n",
       "      <th>Nome do Item</th>\n",
       "      <th></th>\n",
       "      <th></th>\n",
       "      <th></th>\n",
       "    </tr>\n",
       "  </thead>\n",
       "  <tbody>\n",
       "    <tr>\n",
       "      <th>Final Critic</th>\n",
       "      <td>$38.60</td>\n",
       "      <td>$2.76</td>\n",
       "      <td>14</td>\n",
       "    </tr>\n",
       "    <tr>\n",
       "      <th>Arcane Gem</th>\n",
       "      <td>$24.53</td>\n",
       "      <td>$2.23</td>\n",
       "      <td>11</td>\n",
       "    </tr>\n",
       "    <tr>\n",
       "      <th>Betrayal, Whisper of Grieving Widows</th>\n",
       "      <td>$25.85</td>\n",
       "      <td>$2.35</td>\n",
       "      <td>11</td>\n",
       "    </tr>\n",
       "    <tr>\n",
       "      <th>Stormcaller</th>\n",
       "      <td>$34.65</td>\n",
       "      <td>$3.46</td>\n",
       "      <td>10</td>\n",
       "    </tr>\n",
       "    <tr>\n",
       "      <th>Woeful Adamantite Claymore</th>\n",
       "      <td>$11.16</td>\n",
       "      <td>$1.24</td>\n",
       "      <td>9</td>\n",
       "    </tr>\n",
       "  </tbody>\n",
       "</table>\n",
       "</div>"
      ],
      "text/plain": [
       "                                     Valor Total Valor Médio  \\\n",
       "Nome do Item                                                   \n",
       "Final Critic                              $38.60       $2.76   \n",
       "Arcane Gem                                $24.53       $2.23   \n",
       "Betrayal, Whisper of Grieving Widows      $25.85       $2.35   \n",
       "Stormcaller                               $34.65       $3.46   \n",
       "Woeful Adamantite Claymore                $11.16       $1.24   \n",
       "\n",
       "                                      Número de Compras  \n",
       "Nome do Item                                             \n",
       "Final Critic                                         14  \n",
       "Arcane Gem                                           11  \n",
       "Betrayal, Whisper of Grieving Widows                 11  \n",
       "Stormcaller                                          10  \n",
       "Woeful Adamantite Claymore                            9  "
      ]
     },
     "execution_count": 720,
     "metadata": {},
     "output_type": "execute_result"
    }
   ],
   "source": [
    "#### Implemente aqui sua solução\n",
    "\n",
    "item_popular = purchase_file.groupby(by=['Nome do Item']).count()['Valor']\n",
    "\n",
    "item_popular_media = purchase_file.groupby(by=['Nome do Item']).mean()['Valor']\n",
    "\n",
    "item_popular_total = purchase_file.groupby(by=['Nome do Item']).sum()['Valor']\n",
    "\n",
    "item_top5 = pd.DataFrame({'Valor Total': item_popular_total, 'Valor Médio': item_popular_media, \n",
    "                         'Número de Compras': item_popular})\n",
    "\n",
    "item_top5['Valor Total'] = item_top5['Valor Total'].map(\"${:,.2f}\".format)\n",
    "item_top5['Valor Médio'] = item_top5['Valor Médio'].map(\"${:,.2f}\".format)\n",
    "item_top5.sort_values('Número de Compras', ascending = False).head(5)"
   ]
  },
  {
   "cell_type": "markdown",
   "metadata": {},
   "source": [
    "## Itens Mais Lucrativos"
   ]
  },
  {
   "cell_type": "code",
   "execution_count": 725,
   "metadata": {},
   "outputs": [
    {
     "data": {
      "text/html": [
       "<div>\n",
       "<style scoped>\n",
       "    .dataframe tbody tr th:only-of-type {\n",
       "        vertical-align: middle;\n",
       "    }\n",
       "\n",
       "    .dataframe tbody tr th {\n",
       "        vertical-align: top;\n",
       "    }\n",
       "\n",
       "    .dataframe thead th {\n",
       "        text-align: right;\n",
       "    }\n",
       "</style>\n",
       "<table border=\"1\" class=\"dataframe\">\n",
       "  <thead>\n",
       "    <tr style=\"text-align: right;\">\n",
       "      <th></th>\n",
       "      <th>Valor Total</th>\n",
       "      <th>Valor Médio</th>\n",
       "      <th>Número de Compras</th>\n",
       "    </tr>\n",
       "    <tr>\n",
       "      <th>Nome do Item</th>\n",
       "      <th></th>\n",
       "      <th></th>\n",
       "      <th></th>\n",
       "    </tr>\n",
       "  </thead>\n",
       "  <tbody>\n",
       "    <tr>\n",
       "      <th>Final Critic</th>\n",
       "      <td>$38.60</td>\n",
       "      <td>$2.76</td>\n",
       "      <td>14</td>\n",
       "    </tr>\n",
       "    <tr>\n",
       "      <th>Retribution Axe</th>\n",
       "      <td>$37.26</td>\n",
       "      <td>$4.14</td>\n",
       "      <td>9</td>\n",
       "    </tr>\n",
       "    <tr>\n",
       "      <th>Stormcaller</th>\n",
       "      <td>$34.65</td>\n",
       "      <td>$3.46</td>\n",
       "      <td>10</td>\n",
       "    </tr>\n",
       "    <tr>\n",
       "      <th>Spectral Diamond Doomblade</th>\n",
       "      <td>$29.75</td>\n",
       "      <td>$4.25</td>\n",
       "      <td>7</td>\n",
       "    </tr>\n",
       "    <tr>\n",
       "      <th>Orenmir</th>\n",
       "      <td>$29.70</td>\n",
       "      <td>$4.95</td>\n",
       "      <td>6</td>\n",
       "    </tr>\n",
       "  </tbody>\n",
       "</table>\n",
       "</div>"
      ],
      "text/plain": [
       "                           Valor Total Valor Médio  Número de Compras\n",
       "Nome do Item                                                         \n",
       "Final Critic                    $38.60       $2.76                 14\n",
       "Retribution Axe                 $37.26       $4.14                  9\n",
       "Stormcaller                     $34.65       $3.46                 10\n",
       "Spectral Diamond Doomblade      $29.75       $4.25                  7\n",
       "Orenmir                         $29.70       $4.95                  6"
      ]
     },
     "execution_count": 725,
     "metadata": {},
     "output_type": "execute_result"
    }
   ],
   "source": [
    "# Implemente aqui sua solução\n",
    "item_popular = purchase_file.groupby(by=['Nome do Item']).count()['Valor']\n",
    "\n",
    "item_popular_media = purchase_file.groupby(by=['Nome do Item']).mean()['Valor']\n",
    "\n",
    "item_popular_total = purchase_file.groupby(by=['Nome do Item']).sum()['Valor']\n",
    "\n",
    "item_top5 = pd.DataFrame({'Valor Total': item_popular_total, 'Valor Médio': item_popular_media, \n",
    "                         'Número de Compras': item_popular})\n",
    "item_top5['Valor Completo'] = item_top5['Valor Total']\n",
    "item_top5['Valor Total'] = item_top5['Valor Total'].map(\"${:,.2f}\".format)\n",
    "item_top5['Valor Médio'] = item_top5['Valor Médio'].map(\"${:,.2f}\".format)\n",
    "item_top5.sort_values('Valor Completo', ascending = False).head(5) [['Valor Total','Valor Médio', 'Número de Compras']]"
   ]
  },
  {
   "cell_type": "markdown",
   "metadata": {
    "collapsed": true
   },
   "source": [
    "## Fim"
   ]
  },
  {
   "cell_type": "markdown",
   "metadata": {
    "collapsed": true
   },
   "source": [
    "### Obrigado - Data Science Academy - <a href=\"http://facebook.com/dsacademybr\">facebook.com/dsacademybr</a>"
   ]
  }
 ],
 "metadata": {
  "kernelspec": {
   "display_name": "Python 3",
   "language": "python",
   "name": "python3"
  },
  "language_info": {
   "codemirror_mode": {
    "name": "ipython",
    "version": 3
   },
   "file_extension": ".py",
   "mimetype": "text/x-python",
   "name": "python",
   "nbconvert_exporter": "python",
   "pygments_lexer": "ipython3",
   "version": "3.7.6"
  }
 },
 "nbformat": 4,
 "nbformat_minor": 2
}
