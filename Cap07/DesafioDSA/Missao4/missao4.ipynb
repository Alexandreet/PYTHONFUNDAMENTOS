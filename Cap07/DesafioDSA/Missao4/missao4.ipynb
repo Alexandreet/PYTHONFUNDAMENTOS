{
 "cells": [
  {
   "cell_type": "markdown",
   "metadata": {},
   "source": [
    "# <font color='blue'>Data Science Academy - Python Fundamentos - Capítulo 7</font>\n",
    "\n",
    "## Download: http://github.com/dsacademybr"
   ]
  },
  {
   "cell_type": "code",
   "execution_count": 1,
   "metadata": {},
   "outputs": [
    {
     "name": "stdout",
     "output_type": "stream",
     "text": [
      "Versão da Linguagem Python Usada Neste Jupyter Notebook: 3.7.6\n"
     ]
    }
   ],
   "source": [
    "# Versão da Linguagem Python\n",
    "from platform import python_version\n",
    "print('Versão da Linguagem Python Usada Neste Jupyter Notebook:', python_version())"
   ]
  },
  {
   "cell_type": "markdown",
   "metadata": {},
   "source": [
    "## Missão: Implementar o Algoritmo de Ordenação \"Selection sort\"."
   ]
  },
  {
   "cell_type": "markdown",
   "metadata": {},
   "source": [
    "## Nível de Dificuldade: Alto"
   ]
  },
  {
   "cell_type": "markdown",
   "metadata": {},
   "source": [
    "## Premissas\n",
    "\n",
    "* As duplicatas são permitidas?\n",
    "     * Sim\n",
    "* Podemos assumir que a entrada é válida?\n",
    "     * Não\n",
    "* Podemos supor que isso se encaixa na memória?\n",
    "     * Sim"
   ]
  },
  {
   "cell_type": "markdown",
   "metadata": {},
   "source": [
    "## Teste Cases\n",
    "\n",
    "* None -> Exception\n",
    "* [] -> []\n",
    "* One element -> [element]\n",
    "* Two or more elements"
   ]
  },
  {
   "cell_type": "markdown",
   "metadata": {},
   "source": [
    "## Algoritmo\n",
    "\n",
    "Animação do Wikipedia:\n",
    "![alt text](http://upload.wikimedia.org/wikipedia/commons/9/94/Selection-Sort-Animation.gif)\n",
    "\n",
    "Podemos fazer isso de forma recursiva ou iterativa. Iterativamente será mais eficiente, pois não requer sobrecarga de espaço extra com as chamadas recursivas.\n",
    "\n",
    "* Para cada elemento\n",
    "     * Verifique cada elemento à direita para encontrar o min\n",
    "     * Se min < elemento atual, swap"
   ]
  },
  {
   "cell_type": "markdown",
   "metadata": {},
   "source": [
    "## Solução"
   ]
  },
  {
   "cell_type": "code",
   "execution_count": 9,
   "metadata": {},
   "outputs": [],
   "source": [
    "class SelectionSort(object):\n",
    "\n",
    "    def sort(self, data):\n",
    "        if data is None:    #Inserindo typeError personalizado para data vazio\n",
    "            raise TypeError('O objeto não pode ser None')\n",
    "        if len(data) < 2: #se o tamanho do set for 1 retorne o data\n",
    "            return data\n",
    "        for i in range(len(data) - 1):  #considere cada iteração de i como o menor valor até chegar \n",
    "            min_index = i               #no último valor do set \n",
    "            for j in range(i + 1, len(data)): # range entre i+1 e o tamanho do set\n",
    "                if data[j] < data[min_index]: #se j for menor que data[min_index] \n",
    "                    min_index = j             #j se torna min_index\n",
    "            if data[min_index] < data[i]:     #se data[min_index] < data[i]\n",
    "                data[i], data[min_index] = data[min_index], data[i] #troque as posições de i e \n",
    "        return data                           #min_index e então retorne data\n",
    "\n",
    "    def sort_iterative_alt(self, data):\n",
    "        if data is None:               #Typer error      \n",
    "            raise TypeError('O objeto não pode ser None')\n",
    "        if len(data) < 2:  #retornando data se for 1\n",
    "            return data\n",
    "        for i in range(len(data) - 1):    # para cada número excute len -1 vezes o _swap \n",
    "            self._swap(data, i, self._find_min_index(data, i)) #execute o ._swap com \n",
    "        return data                                            #_find_min_index\n",
    "\n",
    "    def sort_recursive(self, data):\n",
    "        if data is None: #type error\n",
    "            raise TypeError('O objeto não pode ser None')\n",
    "        if len(data) < 2:       #Se data for 1 retorne data\n",
    "            return data\n",
    "        return self._sort_recursive(data, start=0) #Se data não for None nem 1 execute\n",
    "                                                   #Com start em 0\n",
    "    def _sort_recursive(self, data, start):\n",
    "        if data is None:\n",
    "            return\n",
    "        if start < len(data) - 1:  #Se o start for menor que o tamanho -1\n",
    "            swap(data, start, self._find_min_index(data, start)) #execute o find_min_index\n",
    "            self._sort_recursive(data, start + 1) #repita o processo até chegar \n",
    "        return data                               #em start = len(data) - 1\n",
    "\n",
    "    def _find_min_index(self, data, start): \n",
    "        min_index = start #começa o start com o valor atribuido na funcao\n",
    "        for i in range(start + 1, len(data)):  #para cada elemento no range de start +1 até o \n",
    "            if data[i] < data[min_index]:      #tamaho do set se o valor da posição atual for \n",
    "                min_index = i                  #menor que o da min_index torne aquela posição \n",
    "        return min_index                       #a menor e retorne o min_index\n",
    "\n",
    "    def _swap(self, data, i, j):\n",
    "        if i != j: #Se i for diferente de j\n",
    "            data[i], data[j] = data[j], data[i] #troque as posições de i e j\n",
    "        return data"
   ]
  },
  {
   "cell_type": "markdown",
   "metadata": {},
   "source": [
    "## Teste da Solução"
   ]
  },
  {
   "cell_type": "code",
   "execution_count": 10,
   "metadata": {},
   "outputs": [
    {
     "name": "stdout",
     "output_type": "stream",
     "text": [
      "Overwriting missao4.py\n"
     ]
    }
   ],
   "source": [
    "%%writefile missao4.py\n",
    "from nose.tools import assert_equal, assert_raises\n",
    "\n",
    "\n",
    "class TestSelectionSort(object):\n",
    "\n",
    "    def test_selection_sort(self, func):\n",
    "        print('None input')\n",
    "        assert_raises(TypeError, func, None)\n",
    "\n",
    "        print('Input vazio')\n",
    "        assert_equal(func([]), [])\n",
    "\n",
    "        print('Um elemento')\n",
    "        assert_equal(func([5]), [5])\n",
    "\n",
    "        print('Dois ou mais elementos')\n",
    "        data = [5, 1, 7, 2, 6, -3, 5, 7, -10]\n",
    "        assert_equal(func(data), sorted(data))\n",
    "\n",
    "        print('Sua solução foi executada com sucesso! Parabéns!')\n",
    "\n",
    "\n",
    "def main():\n",
    "    test = TestSelectionSort()\n",
    "    try:\n",
    "        selection_sort = SelectionSort()\n",
    "        test.test_selection_sort(selection_sort.sort)\n",
    "    except NameError:\n",
    "        pass\n",
    "\n",
    "\n",
    "if __name__ == '__main__':\n",
    "    main()"
   ]
  },
  {
   "cell_type": "code",
   "execution_count": 11,
   "metadata": {},
   "outputs": [
    {
     "name": "stdout",
     "output_type": "stream",
     "text": [
      "None input\n",
      "Input vazio\n",
      "Um elemento\n",
      "Dois ou mais elementos\n",
      "Sua solução foi executada com sucesso! Parabéns!\n"
     ]
    }
   ],
   "source": [
    "%run -i missao4.py"
   ]
  },
  {
   "cell_type": "markdown",
   "metadata": {},
   "source": [
    "## Fim"
   ]
  },
  {
   "cell_type": "markdown",
   "metadata": {},
   "source": [
    "### Obrigado - Data Science Academy - <a href=\"http://facebook.com/dsacademybr\">facebook.com/dsacademybr</a>"
   ]
  }
 ],
 "metadata": {
  "kernelspec": {
   "display_name": "Python 3",
   "language": "python",
   "name": "python3"
  },
  "language_info": {
   "codemirror_mode": {
    "name": "ipython",
    "version": 3
   },
   "file_extension": ".py",
   "mimetype": "text/x-python",
   "name": "python",
   "nbconvert_exporter": "python",
   "pygments_lexer": "ipython3",
   "version": "3.7.6"
  }
 },
 "nbformat": 4,
 "nbformat_minor": 1
}
