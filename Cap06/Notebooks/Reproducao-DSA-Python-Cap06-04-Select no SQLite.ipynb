{
 "cells": [
  {
   "cell_type": "markdown",
   "metadata": {},
   "source": [
    "### Leitura dos Dados"
   ]
  },
  {
   "cell_type": "code",
   "execution_count": 2,
   "metadata": {},
   "outputs": [],
   "source": [
    "import sqlite3\n",
    "import random\n",
    "import time\n",
    "import datetime\n",
    "\n",
    "# Criando uma conexão\n",
    "conn = sqlite3.connect(\"dsa.db\")\n",
    "\n",
    "# Criando cursor\n",
    "c = conn.cursor()\n",
    "\n",
    "# Define uma função para criar uma tabela\n",
    "def create_table():\n",
    "    c.execute('CREATE TABLE IF NOT EXISTS produtos (id INTEGER PRIMARY KEY AUTOINCREMENT NOT NULL, date TEXT, '\\\n",
    "              'prod_name TEXT, valor REAL) ')\n",
    "\n",
    "# Define uma função para criar uma linha    \n",
    "def data_insert():\n",
    "    c.execute(\"INSERT INTO produtos VALUES(10, '2018-05-02 14:32:11', 'Teclado', 130)\")\n",
    "    conn.commit()\n",
    "    c.close()\n",
    "    conn.close()\n",
    "\n",
    "# Função para adicionar dados com variaveis    \n",
    "def data_insert_var():\n",
    "    new_date = datetime.datetime.now()\n",
    "    new_prod_name = 'Monitor'\n",
    "    new_valor = random.randrange(50,100)\n",
    "    c.execute(\"INSERT INTO produtos(date, prod_name, valor) VALUES (?, ?, ?)\",(new_date, new_prod_name, new_valor))\n",
    "    conn.commit()\n",
    "    \n",
    "#Leitura dos dados\n",
    "def leitura_todos_dados():\n",
    "    c.execute(\"SELECT * FROM PRODUTOS\")\n",
    "    for linha in c.fetchall():\n",
    "        print(linha)\n",
    "\n",
    "#Leitura de registros específicos\n",
    "def leitura_registros():\n",
    "    c.execute(\"SELECT * FROM PRODUTOS WHERE valor > 60.0\")\n",
    "    for linha in c.fetchall():\n",
    "        print(linha)\n",
    "\n",
    "#Leitura de colunas específicas\n",
    "def leitura_colunas():\n",
    "    c.execute(\"SELECT * FROM PRODUTOS\")\n",
    "    for linha in c.fetchall():\n",
    "        print(linha[3])"
   ]
  },
  {
   "cell_type": "code",
   "execution_count": 3,
   "metadata": {},
   "outputs": [
    {
     "name": "stdout",
     "output_type": "stream",
     "text": [
      "(10, '2018-05-02 14:32:11', 'Teclado', 90.0)\n",
      "(11, '2021-09-09 08:27:59.587573', 'Monitor', 82.0)\n",
      "(12, '2021-09-09 08:28:00.671196', 'Monitor', 59.0)\n",
      "(13, '2021-09-09 08:28:01.674691', 'Monitor', 75.0)\n",
      "(14, '2021-09-09 08:28:02.682421', 'Monitor', 90.0)\n",
      "(15, '2021-09-09 08:28:03.814852', 'Monitor', 60.0)\n",
      "(16, '2021-09-09 08:28:04.826056', 'Monitor', 90.0)\n",
      "(17, '2021-09-09 08:28:05.832037', 'Monitor', 90.0)\n",
      "(18, '2021-09-09 08:28:06.839373', 'Monitor', 82.0)\n",
      "(19, '2021-09-09 08:28:07.850349', 'Monitor', 74.0)\n",
      "(20, '2021-09-09 08:28:08.857951', 'Monitor', 89.0)\n"
     ]
    }
   ],
   "source": [
    "#Select nos dados\n",
    "leitura_todos_dados()"
   ]
  },
  {
   "cell_type": "code",
   "execution_count": 4,
   "metadata": {},
   "outputs": [
    {
     "name": "stdout",
     "output_type": "stream",
     "text": [
      "(10, '2018-05-02 14:32:11', 'Teclado', 90.0)\n",
      "(11, '2021-09-09 08:27:59.587573', 'Monitor', 82.0)\n",
      "(13, '2021-09-09 08:28:01.674691', 'Monitor', 75.0)\n",
      "(14, '2021-09-09 08:28:02.682421', 'Monitor', 90.0)\n",
      "(16, '2021-09-09 08:28:04.826056', 'Monitor', 90.0)\n",
      "(17, '2021-09-09 08:28:05.832037', 'Monitor', 90.0)\n",
      "(18, '2021-09-09 08:28:06.839373', 'Monitor', 82.0)\n",
      "(19, '2021-09-09 08:28:07.850349', 'Monitor', 74.0)\n",
      "(20, '2021-09-09 08:28:08.857951', 'Monitor', 89.0)\n"
     ]
    }
   ],
   "source": [
    "#Select de registros especificos\n",
    "leitura_registros()"
   ]
  },
  {
   "cell_type": "code",
   "execution_count": 5,
   "metadata": {},
   "outputs": [
    {
     "name": "stdout",
     "output_type": "stream",
     "text": [
      "90.0\n",
      "82.0\n",
      "59.0\n",
      "75.0\n",
      "90.0\n",
      "60.0\n",
      "90.0\n",
      "90.0\n",
      "82.0\n",
      "74.0\n",
      "89.0\n"
     ]
    }
   ],
   "source": [
    "leitura_colunas()"
   ]
  },
  {
   "cell_type": "code",
   "execution_count": 6,
   "metadata": {},
   "outputs": [],
   "source": [
    "c.close()\n",
    "conn.close()"
   ]
  },
  {
   "cell_type": "code",
   "execution_count": null,
   "metadata": {},
   "outputs": [],
   "source": []
  }
 ],
 "metadata": {
  "kernelspec": {
   "display_name": "Python 3",
   "language": "python",
   "name": "python3"
  },
  "language_info": {
   "codemirror_mode": {
    "name": "ipython",
    "version": 3
   },
   "file_extension": ".py",
   "mimetype": "text/x-python",
   "name": "python",
   "nbconvert_exporter": "python",
   "pygments_lexer": "ipython3",
   "version": "3.7.6"
  }
 },
 "nbformat": 4,
 "nbformat_minor": 4
}
