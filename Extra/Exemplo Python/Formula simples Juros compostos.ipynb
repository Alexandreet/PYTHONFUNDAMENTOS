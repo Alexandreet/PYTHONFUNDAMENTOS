{
 "cells": [
  {
   "cell_type": "code",
   "execution_count": 2,
   "metadata": {
    "scrolled": true
   },
   "outputs": [],
   "source": [
    "def juros_composto_inc(valor, juros, incremento,meses,lista):\n",
    "    repetir = 0\n",
    "    valores = []\n",
    "    while repetir < meses:\n",
    "        if repetir == 0:\n",
    "            lucro = valor * juros\n",
    "            valores.append(lucro)\n",
    "            valor = lucro\n",
    "            repetir += 1\n",
    "            print('Mês', repetir, ' ', 'B$', valor)\n",
    "        else:\n",
    "            lucro = valor * juros + incremento\n",
    "            valores.append(lucro)\n",
    "            valor = lucro\n",
    "            repetir += 1\n",
    "            print('Mês', repetir, ' ', 'B$', valor)\n",
    "    lista.append(valores)"
   ]
  },
  {
   "cell_type": "code",
   "execution_count": 3,
   "metadata": {},
   "outputs": [],
   "source": [
    "def juros_composto(valor, juros, meses,lista):\n",
    "    repetir = 0\n",
    "    valores = []\n",
    "    while repetir < meses:\n",
    "            lucro = valor * juros\n",
    "            valores.append(lucro)\n",
    "            valor = lucro\n",
    "            repetir += 1\n",
    "            print('Mês', repetir, ' ', 'B$', valor)\n",
    "    lista.append(valores)"
   ]
  },
  {
   "cell_type": "code",
   "execution_count": 102,
   "metadata": {},
   "outputs": [
    {
     "name": "stdout",
     "output_type": "stream",
     "text": [
      "Mês 1   B$ 10149.999999999998\n",
      "Mês 2   B$ 10302.249999999996\n",
      "Mês 3   B$ 10456.783749999995\n",
      "Mês 4   B$ 10613.635506249993\n",
      "Mês 5   B$ 10772.840038843742\n",
      "Mês 6   B$ 10934.432639426397\n",
      "Mês 7   B$ 11098.449129017792\n",
      "Mês 8   B$ 11264.925865953059\n",
      "Mês 9   B$ 11433.899753942353\n",
      "Mês 10   B$ 11605.408250251487\n",
      "Mês 11   B$ 11779.489374005258\n",
      "Mês 12   B$ 11956.181714615335\n",
      "[10149.999999999998, 10302.249999999996, 10456.783749999995, 10613.635506249993, 10772.840038843742, 10934.432639426397, 11098.449129017792, 11264.925865953059, 11433.899753942353, 11605.408250251487, 11779.489374005258, 11956.181714615335]\n"
     ]
    }
   ],
   "source": [
    "listinha = []\n",
    "juros_composto(10000,1.015,12,listinha)\n",
    "listinha = listinha[0]\n",
    "print(listinha)"
   ]
  },
  {
   "cell_type": "code",
   "execution_count": 101,
   "metadata": {},
   "outputs": [
    {
     "name": "stdout",
     "output_type": "stream",
     "text": [
      "Mês 1   B$ 10149.999999999998\n",
      "Mês 2   B$ 15302.249999999996\n",
      "Mês 3   B$ 20531.783749999995\n",
      "Mês 4   B$ 25839.760506249993\n",
      "Mês 5   B$ 31227.35691384374\n",
      "Mês 6   B$ 36695.76726755139\n",
      "Mês 7   B$ 42246.20377656466\n",
      "Mês 8   B$ 47879.896833213126\n",
      "Mês 9   B$ 53598.095285711315\n",
      "Mês 10   B$ 59402.06671499698\n",
      "Mês 11   B$ 65293.09771572193\n",
      "Mês 12   B$ 71272.49418145775\n",
      "[10149.999999999998, 15302.249999999996, 20531.783749999995, 25839.760506249993, 31227.35691384374, 36695.76726755139, 42246.20377656466, 47879.896833213126, 53598.095285711315, 59402.06671499698, 65293.09771572193, 71272.49418145775]\n"
     ]
    }
   ],
   "source": [
    "listinha_inc = []\n",
    "juros_composto_inc(10000,1.015, 5000,12,listinha_inc)\n",
    "listinha_inc = listinha_inc[0]\n",
    "print(listinha_inc)"
   ]
  },
  {
   "cell_type": "code",
   "execution_count": 61,
   "metadata": {},
   "outputs": [],
   "source": [
    "coeficiente = 200\n",
    "porcentagem = coeficiente / 100"
   ]
  },
  {
   "cell_type": "code",
   "execution_count": 62,
   "metadata": {},
   "outputs": [
    {
     "ename": "NameError",
     "evalue": "name 'variavel' is not defined",
     "output_type": "error",
     "traceback": [
      "\u001b[0;31m---------------------------------------------------------------------------\u001b[0m",
      "\u001b[0;31mNameError\u001b[0m                                 Traceback (most recent call last)",
      "\u001b[0;32m<ipython-input-62-57dcaa5c546b>\u001b[0m in \u001b[0;36m<module>\u001b[0;34m\u001b[0m\n\u001b[1;32m      1\u001b[0m \u001b[0mlista_valores\u001b[0m \u001b[0;34m=\u001b[0m \u001b[0;34m[\u001b[0m\u001b[0;34m]\u001b[0m\u001b[0;34m\u001b[0m\u001b[0;34m\u001b[0m\u001b[0m\n\u001b[0;32m----> 2\u001b[0;31m \u001b[0mlista_valores\u001b[0m \u001b[0;34m=\u001b[0m \u001b[0mvariavel\u001b[0m\u001b[0;34m[\u001b[0m\u001b[0;36m0\u001b[0m\u001b[0;34m]\u001b[0m\u001b[0;34m\u001b[0m\u001b[0;34m\u001b[0m\u001b[0m\n\u001b[0m\u001b[1;32m      3\u001b[0m \u001b[0mprint\u001b[0m\u001b[0;34m(\u001b[0m\u001b[0mlista_valores\u001b[0m\u001b[0;34m)\u001b[0m\u001b[0;34m\u001b[0m\u001b[0;34m\u001b[0m\u001b[0m\n",
      "\u001b[0;31mNameError\u001b[0m: name 'variavel' is not defined"
     ]
    }
   ],
   "source": [
    "lista_valores = []\n",
    "lista_valores = variavel[0]\n",
    "print(lista_valores)"
   ]
  },
  {
   "cell_type": "code",
   "execution_count": 63,
   "metadata": {},
   "outputs": [
    {
     "data": {
      "text/plain": [
       "258565837163.63437"
      ]
     },
     "execution_count": 63,
     "metadata": {},
     "output_type": "execute_result"
    }
   ],
   "source": [
    "(listinha_inc[11] * 330000) * porcentagem"
   ]
  },
  {
   "cell_type": "code",
   "execution_count": 64,
   "metadata": {},
   "outputs": [
    {
     "name": "stdout",
     "output_type": "stream",
     "text": [
      "Mês 1   B$ 415272.4051415946\n",
      "Mês 2   B$ 440188.7524803903\n",
      "Mês 3   B$ 466600.08065951377\n",
      "Mês 4   B$ 494596.08852938464\n",
      "Mês 5   B$ 524271.85687144776\n",
      "Mês 6   B$ 555728.1713140347\n",
      "Mês 7   B$ 589071.8646231769\n",
      "Mês 8   B$ 624416.1795308675\n",
      "Mês 9   B$ 661881.1533330196\n",
      "Mês 10   B$ 701594.0255633008\n",
      "Mês 11   B$ 743689.6701273989\n",
      "Mês 12   B$ 788311.0533653429\n",
      "[415272.4051415946, 440188.7524803903, 466600.08065951377, 494596.08852938464, 524271.85687144776, 555728.1713140347, 589071.8646231769, 624416.1795308675, 661881.1533330196, 701594.0255633008, 743689.6701273989, 788311.0533653429]\n"
     ]
    }
   ],
   "source": [
    "listinha_inc2 = []\n",
    "juros_composto_inc(listinha_inc[11],1.06, 0.0030303,12,listinha_inc2)\n",
    "listinha_inc2 = listinha_inc2[0]\n",
    "print(listinha_inc2)"
   ]
  },
  {
   "cell_type": "code",
   "execution_count": 29,
   "metadata": {},
   "outputs": [
    {
     "data": {
      "text/plain": [
       "6036.583378917242"
      ]
     },
     "execution_count": 29,
     "metadata": {},
     "output_type": "execute_result"
    }
   ],
   "source": [
    "(listinha[11] * 330000) * porcentagem"
   ]
  },
  {
   "cell_type": "code",
   "execution_count": 33,
   "metadata": {},
   "outputs": [
    {
     "data": {
      "text/plain": [
       "294878.487776115"
      ]
     },
     "execution_count": 33,
     "metadata": {},
     "output_type": "execute_result"
    }
   ],
   "source": [
    "(listinha_inc2[11] * 990000) * porcentagem"
   ]
  },
  {
   "cell_type": "code",
   "execution_count": null,
   "metadata": {},
   "outputs": [],
   "source": [
    "listinha[0] - 32000000"
   ]
  },
  {
   "cell_type": "code",
   "execution_count": null,
   "metadata": {},
   "outputs": [],
   "source": [
    "0.25 * 330000"
   ]
  },
  {
   "cell_type": "code",
   "execution_count": null,
   "metadata": {},
   "outputs": [],
   "source": [
    "bitcoinList = []\n",
    "juros_composto(2200000,1.06,12,bitcoinList)"
   ]
  },
  {
   "cell_type": "code",
   "execution_count": 87,
   "metadata": {},
   "outputs": [],
   "source": [
    "max_num = 12\n",
    "repeticao = 0\n",
    "juros = 1.015\n",
    "total_juros = 0"
   ]
  },
  {
   "cell_type": "code",
   "execution_count": 88,
   "metadata": {},
   "outputs": [
    {
     "name": "stdout",
     "output_type": "stream",
     "text": [
      "1.1956181714615335 12\n"
     ]
    }
   ],
   "source": [
    "while repeticao < max_num :\n",
    "    \n",
    "    if repeticao == 0:\n",
    "        \n",
    "        total_juros = juros\n",
    "        repeticao += 1\n",
    "        \n",
    "    else:\n",
    "        total_juros = total_juros * juros\n",
    "        repeticao += 1\n",
    "        \n",
    "else:\n",
    "    print(total_juros,repeticao)"
   ]
  },
  {
   "cell_type": "code",
   "execution_count": null,
   "metadata": {},
   "outputs": [],
   "source": []
  }
 ],
 "metadata": {
  "kernelspec": {
   "display_name": "Python 3",
   "language": "python",
   "name": "python3"
  },
  "language_info": {
   "codemirror_mode": {
    "name": "ipython",
    "version": 3
   },
   "file_extension": ".py",
   "mimetype": "text/x-python",
   "name": "python",
   "nbconvert_exporter": "python",
   "pygments_lexer": "ipython3",
   "version": "3.7.6"
  }
 },
 "nbformat": 4,
 "nbformat_minor": 4
}
