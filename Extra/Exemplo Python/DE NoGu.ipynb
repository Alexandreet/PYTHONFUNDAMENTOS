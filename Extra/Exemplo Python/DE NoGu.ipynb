{
 "cells": [
  {
   "cell_type": "code",
   "execution_count": 1,
   "metadata": {},
   "outputs": [],
   "source": [
    "import pandas as pd"
   ]
  },
  {
   "cell_type": "code",
   "execution_count": 2,
   "metadata": {},
   "outputs": [],
   "source": [
    "danos = {\"Atk\":[41020140,41025605,5465,0.013322], \n",
    "         \"AtkPerc\":[41020140,41213310,193170,0.470915], \n",
    "         \"RefineAtk\":[41020140,41020939,199.75,0.000486],\n",
    "         \"Str\":[41020140,41025441,5301, 0.012922], \n",
    "         \"LargeSize\":[41020140,48288965,290753,0.708805], \n",
    "         \"MvpDmg\":[29827331,30079448,252117, 0.845254],\n",
    "         \"WindDmg\":[41020140,41247118,226978,0.553333],\n",
    "         \"SkillDmg\":[40987353,41979140,170337.5, 0.415585],\n",
    "         \"MovSpeed\":[41020140,42731152,570337.3, 1.390383], \n",
    "         \"Pdi\":[41020140,41258174,236702, 0.577038], \n",
    "         \"Pen\":[41020140,41252558,232418,0.566594],\n",
    "         \"Melee\":[35392832,36005530,612698, 0.346227]}"
   ]
  },
  {
   "cell_type": "code",
   "execution_count": 67,
   "metadata": {},
   "outputs": [
    {
     "data": {
      "text/plain": [
       "{'Atk': [41020140, 41025605, 5465],\n",
       " 'AtkPerc': [41020140, 41213310, 193170],\n",
       " 'RefineAtk': [41020140, 41020939, 199.75],\n",
       " 'Str': [41020140, 41025441, 5301],\n",
       " 'LargeSize': [41020140, 48288965, 290753],\n",
       " 'MvpDmg': [1, 2, 3],\n",
       " 'WindDmg': [41020140, 2, 3],\n",
       " 'SkillDmg': [41020140, 2, 3],\n",
       " 'MovSpeed': [41020140, 2, 3],\n",
       " 'Pdi': [41020140, 2, 3],\n",
       " 'Pen': [41020140, 2, 3]}"
      ]
     },
     "execution_count": 67,
     "metadata": {},
     "output_type": "execute_result"
    }
   ],
   "source": [
    "danos"
   ]
  },
  {
   "cell_type": "code",
   "execution_count": 58,
   "metadata": {},
   "outputs": [
    {
     "data": {
      "text/plain": [
       "41020140"
      ]
     },
     "execution_count": 58,
     "metadata": {},
     "output_type": "execute_result"
    }
   ],
   "source": [
    "danos[\"Atk\"][0]"
   ]
  },
  {
   "cell_type": "code",
   "execution_count": 150,
   "metadata": {},
   "outputs": [],
   "source": [
    "atk2 = [danos[\"MvpDmg\"][1]- danos[\"MvpDmg\"][0]]"
   ]
  },
  {
   "cell_type": "code",
   "execution_count": 151,
   "metadata": {},
   "outputs": [
    {
     "data": {
      "text/plain": [
       "[252117]"
      ]
     },
     "execution_count": 151,
     "metadata": {},
     "output_type": "execute_result"
    }
   ],
   "source": [
    "atk2"
   ]
  },
  {
   "cell_type": "code",
   "execution_count": 153,
   "metadata": {},
   "outputs": [
    {
     "data": {
      "text/plain": [
       "0.8452549777249597"
      ]
     },
     "execution_count": 153,
     "metadata": {},
     "output_type": "execute_result"
    }
   ],
   "source": [
    "(danos[\"MvpDmg\"][2]*100)/danos[\"MvpDmg\"][0]"
   ]
  },
  {
   "cell_type": "code",
   "execution_count": 142,
   "metadata": {},
   "outputs": [
    {
     "name": "stdout",
     "output_type": "stream",
     "text": [
      "19.042254000000003 19.366654999999998 24.562784\n"
     ]
    }
   ],
   "source": [
    "dragscalepdi = danos[\"Pdi\"][3] * 33\n",
    "windarmor = danos[\"WindDmg\"][3] * 35\n",
    "dragscalelarg = (danos[\"LargeSize\"][3] * 20) + (danos[\"Pdi\"][3] * 18)\n",
    "print(dragscalepdi, windarmor, dragscalelarg)"
   ]
  },
  {
   "cell_type": "code",
   "execution_count": 181,
   "metadata": {},
   "outputs": [
    {
     "data": {
      "text/plain": [
       "17.720125"
      ]
     },
     "execution_count": 181,
     "metadata": {},
     "output_type": "execute_result"
    }
   ],
   "source": [
    "alloy = danos[\"LargeSize\"][3] * 25\n",
    "alloy"
   ]
  },
  {
   "cell_type": "code",
   "execution_count": 173,
   "metadata": {},
   "outputs": [
    {
     "name": "stdout",
     "output_type": "stream",
     "text": [
      "7.9948879999999996 5.694654000000001\n"
     ]
    }
   ],
   "source": [
    "dragonslayerB = (danos[\"AtkPerc\"][3] * 12) + (danos[\"Pen\"][3]*4) + (danos[\"Str\"][3]*6)\n",
    "overlordWB = (danos[\"Melee\"][3] *6) + (danos[\"Pdi\"][3]*6) + (danos[\"Str\"][3]*12)\n",
    "print(dragonslayerB, overlordWB)"
   ]
  },
  {
   "cell_type": "code",
   "execution_count": 185,
   "metadata": {},
   "outputs": [
    {
     "data": {
      "text/plain": [
       "8.65557"
      ]
     },
     "execution_count": 185,
     "metadata": {},
     "output_type": "execute_result"
    }
   ],
   "source": [
    "danos[\"Pdi\"][3]* 15"
   ]
  },
  {
   "cell_type": "code",
   "execution_count": 179,
   "metadata": {},
   "outputs": [
    {
     "name": "stdout",
     "output_type": "stream",
     "text": [
      "5.1781078 15.404454999999999\n"
     ]
    }
   ],
   "source": [
    "skilltail = (8* danos[\"SkillDmg\"][3]) + (danos[\"Str\"][3] * 5) + (danos[\"Pdi\"][3]*3.1)\n",
    "rockbunny = (5 *danos[\"MovSpeed\"][3]) + (10* danos[\"MvpDmg\"][3])\n",
    "print(skilltail, rockbunny)"
   ]
  },
  {
   "cell_type": "code",
   "execution_count": 3,
   "metadata": {},
   "outputs": [
    {
     "name": "stdout",
     "output_type": "stream",
     "text": [
      "2.308152 2.4812844000000003\n"
     ]
    }
   ],
   "source": [
    "oldenchant = (4*danos[\"Pdi\"][3])\n",
    "newenchant = (1.3*danos[\"Pdi\"][3]) + (danos[\"Melee\"][3] * 5)\n",
    "print(oldenchant, newenchant)"
   ]
  },
  {
   "cell_type": "code",
   "execution_count": 3,
   "metadata": {},
   "outputs": [
    {
     "name": "stdout",
     "output_type": "stream",
     "text": [
      "12.678809999999999 4.987019999999999\n"
     ]
    }
   ],
   "source": [
    "oldmouth = (15 *danos[\"MvpDmg\"][3]) \n",
    "newmouth = (12 * danos[\"SkillDmg\"][3])\n",
    "print(oldmouth, newmouth)"
   ]
  },
  {
   "cell_type": "code",
   "execution_count": null,
   "metadata": {},
   "outputs": [],
   "source": []
  }
 ],
 "metadata": {
  "kernelspec": {
   "display_name": "Python 3",
   "language": "python",
   "name": "python3"
  },
  "language_info": {
   "codemirror_mode": {
    "name": "ipython",
    "version": 3
   },
   "file_extension": ".py",
   "mimetype": "text/x-python",
   "name": "python",
   "nbconvert_exporter": "python",
   "pygments_lexer": "ipython3",
   "version": "3.7.6"
  }
 },
 "nbformat": 4,
 "nbformat_minor": 4
}
